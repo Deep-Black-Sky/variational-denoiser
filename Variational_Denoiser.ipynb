{
  "nbformat": 4,
  "nbformat_minor": 0,
  "metadata": {
    "kernelspec": {
      "name": "python3",
      "display_name": "Python 3"
    },
    "language_info": {
      "codemirror_mode": {
        "name": "ipython",
        "version": 3
      },
      "file_extension": ".py",
      "mimetype": "text/x-python",
      "name": "python",
      "nbconvert_exporter": "python",
      "pygments_lexer": "ipython3",
      "version": "3.7.4"
    },
    "colab": {
      "name": "Variational Denoiser.ipynb",
      "version": "0.3.2",
      "provenance": []
    },
    "accelerator": "GPU"
  },
  "cells": [
    {
      "cell_type": "code",
      "metadata": {
        "id": "EwhyzkQSGovl",
        "colab_type": "code",
        "colab": {}
      },
      "source": [
        "!git clone https://github.com/Deep-Black-Sky/variational-denoiser.git\n",
        "%cd variational-denoiser"
      ],
      "execution_count": 0,
      "outputs": []
    },
    {
      "cell_type": "code",
      "metadata": {
        "id": "rLLOV7RCGwlZ",
        "colab_type": "code",
        "colab": {}
      },
      "source": [
        "from google.colab import files\n",
        "files.upload()\n",
        "!mkdir -p ~/.kaggle\n",
        "!cp kaggle.json ~/.kaggle/\n",
        "!chmod 600 /root/.kaggle/kaggle.json"
      ],
      "execution_count": 0,
      "outputs": []
    },
    {
      "cell_type": "code",
      "metadata": {
        "id": "4J65o8WJG3-s",
        "colab_type": "code",
        "colab": {}
      },
      "source": [
        "!pip install kaggle pydub"
      ],
      "execution_count": 0,
      "outputs": []
    },
    {
      "cell_type": "code",
      "metadata": {
        "id": "fuTL1nlDG9y6",
        "colab_type": "code",
        "colab": {}
      },
      "source": [
        "!kaggle datasets download -d mozillaorg/common-voice"
      ],
      "execution_count": 0,
      "outputs": []
    },
    {
      "cell_type": "code",
      "metadata": {
        "id": "UghKKMmXHFet",
        "colab_type": "code",
        "colab": {}
      },
      "source": [
        "!unzip common-voice.zip cv-valid-dev.csv\n",
        "!unzip common-voice.zip cv-valid-dev.zip\n",
        "!unzip cv-valid-dev.zip"
      ],
      "execution_count": 0,
      "outputs": []
    },
    {
      "cell_type": "code",
      "metadata": {
        "id": "PZjs01jOGnYH",
        "colab_type": "code",
        "colab": {}
      },
      "source": [
        "from train import train\n",
        "\n",
        "train(iteration=50, epoch=5, num_sounds=10, is_jupyter=True)"
      ],
      "execution_count": 0,
      "outputs": []
    }
  ]
}
